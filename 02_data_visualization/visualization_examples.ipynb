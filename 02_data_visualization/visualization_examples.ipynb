{
 "cells": [
  {
   "cell_type": "markdown",
   "id": "11cfddc3",
   "metadata": {},
   "source": [
    "# 📊 Data Visualization Examples using pandas, matplotlib, seaborn"
   ]
  },
  {
   "cell_type": "code",
   "execution_count": null,
   "id": "2b1d60c1",
   "metadata": {},
   "outputs": [],
   "source": [
    "import pandas as pd\n",
    "import matplotlib.pyplot as plt\n",
    "import seaborn as sns\n",
    "\n",
    "# Ensure inline plots\n",
    "%matplotlib inline"
   ]
  },
  {
   "cell_type": "markdown",
   "id": "db4724a5",
   "metadata": {},
   "source": [
    "## 1. Bar Chart — Revenue by Category"
   ]
  },
  {
   "cell_type": "code",
   "execution_count": null,
   "id": "508ecdb1",
   "metadata": {},
   "outputs": [],
   "source": [
    "revenue_data = pd.DataFrame({\n",
    "    'Category': ['A', 'B', 'C', 'D'],\n",
    "    'Revenue': [5000, 7000, 3000, 4000]\n",
    "})\n",
    "\n",
    "revenue_data.plot(kind='bar', x='Category', y='Revenue', legend=False, color='skyblue')\n",
    "plt.title('Revenue by Category')\n",
    "plt.ylabel('Revenue')\n",
    "plt.show()"
   ]
  },
  {
   "cell_type": "markdown",
   "id": "4873621e",
   "metadata": {},
   "source": [
    "## 2. Line Chart — Monthly Active Users"
   ]
  },
  {
   "cell_type": "code",
   "execution_count": null,
   "id": "7fd0b939",
   "metadata": {},
   "outputs": [],
   "source": [
    "maus = pd.DataFrame({\n",
    "    'Month': ['Jan', 'Feb', 'Mar', 'Apr', 'May'],\n",
    "    'Users': [120, 150, 170, 160, 180]\n",
    "})\n",
    "\n",
    "plt.plot(maus['Month'], maus['Users'], marker='o')\n",
    "plt.title('Monthly Active Users')\n",
    "plt.ylabel('Users')\n",
    "plt.grid(True)\n",
    "plt.show()"
   ]
  },
  {
   "cell_type": "markdown",
   "id": "ed52629e",
   "metadata": {},
   "source": [
    "## 3. Pie Chart — User Segments"
   ]
  },
  {
   "cell_type": "code",
   "execution_count": null,
   "id": "7984773a",
   "metadata": {},
   "outputs": [],
   "source": [
    "segments = pd.Series([0.4, 0.35, 0.25], index=['Free', 'Premium', 'Enterprise'])\n",
    "segments.plot(kind='pie', autopct='%1.0f%%', startangle=90)\n",
    "plt.title('User Segments')\n",
    "plt.ylabel('')\n",
    "plt.show()"
   ]
  },
  {
   "cell_type": "markdown",
   "id": "d86619b4",
   "metadata": {},
   "source": [
    "## 4. Heatmap — Correlation Matrix"
   ]
  },
  {
   "cell_type": "code",
   "execution_count": null,
   "id": "d48ed0b5",
   "metadata": {},
   "outputs": [],
   "source": [
    "data = pd.DataFrame({\n",
    "    'sales': [100, 200, 300, 400, 500],\n",
    "    'ad_spend': [20, 45, 60, 80, 100],\n",
    "    'new_users': [15, 40, 55, 75, 95]\n",
    "})\n",
    "\n",
    "corr = data.corr()\n",
    "sns.heatmap(corr, annot=True, cmap='coolwarm')\n",
    "plt.title('Correlation Matrix')\n",
    "plt.show()"
   ]
  }
 ],
 "metadata": {},
 "nbformat": 4,
 "nbformat_minor": 5
}