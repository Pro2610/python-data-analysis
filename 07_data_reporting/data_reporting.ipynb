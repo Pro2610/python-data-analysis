{
 "cells": [
  {
   "cell_type": "markdown",
   "id": "091369c8",
   "metadata": {},
   "source": [
    "# 📑 Data Reporting in Python"
   ]
  },
  {
   "cell_type": "code",
   "execution_count": null,
   "id": "2b074b7a",
   "metadata": {},
   "outputs": [],
   "source": [
    "import pandas as pd\n",
    "import matplotlib.pyplot as plt\n",
    "from openpyxl import Workbook\n",
    "from reportlab.lib.pagesizes import letter\n",
    "from reportlab.pdfgen import canvas\n",
    "\n",
    "%matplotlib inline"
   ]
  },
  {
   "cell_type": "markdown",
   "id": "f15d5b1a",
   "metadata": {},
   "source": [
    "## 1. Create Sample Data"
   ]
  },
  {
   "cell_type": "code",
   "execution_count": null,
   "id": "eddf76f0",
   "metadata": {},
   "outputs": [],
   "source": [
    "data = pd.DataFrame({\n",
    "    'Month': ['Jan', 'Feb', 'Mar', 'Apr', 'May'],\n",
    "    'Sales': [1000, 1500, 1200, 1700, 2000]\n",
    "})\n",
    "data"
   ]
  },
  {
   "cell_type": "markdown",
   "id": "8543d5b4",
   "metadata": {},
   "source": [
    "## 2. Generate Summary Table"
   ]
  },
  {
   "cell_type": "code",
   "execution_count": null,
   "id": "e1b0d6bf",
   "metadata": {},
   "outputs": [],
   "source": [
    "summary = pd.DataFrame({\n",
    "    'Total Sales': [data['Sales'].sum()],\n",
    "    'Average Sales': [data['Sales'].mean()]\n",
    "})\n",
    "summary"
   ]
  },
  {
   "cell_type": "markdown",
   "id": "5b7502a0",
   "metadata": {},
   "source": [
    "## 3. Plot Sales Chart"
   ]
  },
  {
   "cell_type": "code",
   "execution_count": null,
   "id": "172887ee",
   "metadata": {},
   "outputs": [],
   "source": [
    "plt.figure(figsize=(6,4))\n",
    "plt.plot(data['Month'], data['Sales'], marker='o')\n",
    "plt.title('Monthly Sales')\n",
    "plt.xlabel('Month')\n",
    "plt.ylabel('Sales')\n",
    "plt.grid(True)\n",
    "plt.savefig('sales_chart.png')\n",
    "plt.show()"
   ]
  },
  {
   "cell_type": "markdown",
   "id": "131c356a",
   "metadata": {},
   "source": [
    "## 4. Export to Excel"
   ]
  },
  {
   "cell_type": "code",
   "execution_count": null,
   "id": "da59b1d8",
   "metadata": {},
   "outputs": [],
   "source": [
    "with pd.ExcelWriter('report.xlsx') as writer:\n",
    "    data.to_excel(writer, sheet_name='Data', index=False)\n",
    "    summary.to_excel(writer, sheet_name='Summary', index=False)\n",
    "print('Excel report saved as report.xlsx')"
   ]
  },
  {
   "cell_type": "markdown",
   "id": "607658c7",
   "metadata": {},
   "source": [
    "## 5. Export to PDF"
   ]
  },
  {
   "cell_type": "code",
   "execution_count": null,
   "id": "8736818d",
   "metadata": {},
   "outputs": [],
   "source": [
    "c = canvas.Canvas('report.pdf', pagesize=letter)\n",
    "c.drawString(100, 750, 'Sales Report')\n",
    "c.drawString(100, 730, f'Total Sales: {data['Sales'].sum()}')\n",
    "c.drawString(100, 710, f'Average Sales: {data['Sales'].mean()}')\n",
    "c.drawImage('sales_chart.png', 100, 450, width=300, height=200)\n",
    "c.save()\n",
    "print('PDF report saved as report.pdf')"
   ]
  },
  {
   "cell_type": "markdown",
   "id": "784d869c",
   "metadata": {},
   "source": [
    "### ✅ Interpretation:\n",
    "- Excel report includes raw data and summary tables\n",
    "- PDF report includes key metrics and a sales chart"
   ]
  }
 ],
 "metadata": {},
 "nbformat": 4,
 "nbformat_minor": 5
}