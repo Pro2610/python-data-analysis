{
 "cells": [
  {
   "cell_type": "markdown",
   "id": "db80eec8",
   "metadata": {},
   "source": [
    "# 🧪 A/B Testing Simulation"
   ]
  },
  {
   "cell_type": "code",
   "execution_count": null,
   "id": "19c43727",
   "metadata": {},
   "outputs": [],
   "source": [
    "import pandas as pd\n",
    "import numpy as np\n",
    "import matplotlib.pyplot as plt\n",
    "from scipy import stats\n",
    "\n",
    "%matplotlib inline"
   ]
  },
  {
   "cell_type": "markdown",
   "id": "7e467e34",
   "metadata": {},
   "source": [
    "## 1. Generate Synthetic Data"
   ]
  },
  {
   "cell_type": "code",
   "execution_count": null,
   "id": "b3aef2b2",
   "metadata": {},
   "outputs": [],
   "source": [
    "np.random.seed(42)\n",
    "\n",
    "# Parameters\n",
    "n_A, n_B = 5000, 5000\n",
    "conv_rate_A, conv_rate_B = 0.10, 0.12\n",
    "avg_revenue_A, avg_revenue_B = 50, 55"
   ]
  },
  {
   "cell_type": "code",
   "execution_count": null,
   "id": "dd09a77f",
   "metadata": {},
   "outputs": [],
   "source": [
    "# Simulate conversions\n",
    "converted_A = np.random.binomial(1, conv_rate_A, n_A)\n",
    "converted_B = np.random.binomial(1, conv_rate_B, n_B)"
   ]
  },
  {
   "cell_type": "code",
   "execution_count": null,
   "id": "a51ef2c7",
   "metadata": {},
   "outputs": [],
   "source": [
    "# Simulate revenue\n",
    "revenue_A = converted_A * np.random.normal(avg_revenue_A, 10, n_A)\n",
    "revenue_B = converted_B * np.random.normal(avg_revenue_B, 10, n_B)"
   ]
  },
  {
   "cell_type": "code",
   "execution_count": null,
   "id": "f4f7a67b",
   "metadata": {},
   "outputs": [],
   "source": [
    "data = pd.DataFrame({\n",
    "    'user_id': np.arange(1, n_A+n_B+1),\n",
    "    'group': ['A']*n_A + ['B']*n_B,\n",
    "    'converted': np.concatenate([converted_A, converted_B]),\n",
    "    'revenue': np.concatenate([revenue_A, revenue_B])\n",
    "})\n",
    "data.head()"
   ]
  },
  {
   "cell_type": "markdown",
   "id": "f3c01bfc",
   "metadata": {},
   "source": [
    "## 2. Calculate Metrics"
   ]
  },
  {
   "cell_type": "code",
   "execution_count": null,
   "id": "382aa10b",
   "metadata": {},
   "outputs": [],
   "source": [
    "metrics = data.groupby('group').agg(\n",
    "    users=('converted', 'count'),\n",
    "    conversions=('converted', 'sum'),\n",
    "    conversion_rate=('converted', 'mean'),\n",
    "    arpu=('revenue', 'mean')\n",
    ")\n",
    "metrics"
   ]
  },
  {
   "cell_type": "markdown",
   "id": "307761d0",
   "metadata": {},
   "source": [
    "## 3. Statistical Test (Z-test for proportions)"
   ]
  },
  {
   "cell_type": "code",
   "execution_count": null,
   "id": "1604ca3f",
   "metadata": {},
   "outputs": [],
   "source": [
    "a_conv = metrics.loc['A','conversions']\n",
    "b_conv = metrics.loc['B','conversions']\n",
    "n_A_users = metrics.loc['A','users']\n",
    "n_B_users = metrics.loc['B','users']"
   ]
  },
  {
   "cell_type": "code",
   "execution_count": null,
   "id": "8cbb2793",
   "metadata": {},
   "outputs": [],
   "source": [
    "p_A = a_conv / n_A_users\n",
    "p_B = b_conv / n_B_users\n",
    "p_pool = (a_conv + b_conv) / (n_A_users + n_B_users)\n",
    "se = np.sqrt(p_pool * (1 - p_pool) * (1/n_A_users + 1/n_B_users))"
   ]
  },
  {
   "cell_type": "code",
   "execution_count": null,
   "id": "0dac929f",
   "metadata": {},
   "outputs": [],
   "source": [
    "z_score = (p_B - p_A) / se\n",
    "p_value = 1 - stats.norm.cdf(z_score)\n",
    "print(f'Z-score: {z_score:.2f}')\n",
    "print(f'P-value: {p_value:.4f}')"
   ]
  },
  {
   "cell_type": "markdown",
   "id": "7731eed8",
   "metadata": {},
   "source": [
    "## 4. Visualize Conversion Rates"
   ]
  },
  {
   "cell_type": "code",
   "execution_count": null,
   "id": "fa70de23",
   "metadata": {},
   "outputs": [],
   "source": [
    "plt.bar(metrics.index, metrics['conversion_rate'], color=['skyblue','lightgreen'])\n",
    "plt.title('Conversion Rate: A vs B')\n",
    "plt.ylabel('Conversion Rate')\n",
    "plt.show()"
   ]
  },
  {
   "cell_type": "markdown",
   "id": "1d9b5cca",
   "metadata": {},
   "source": [
    "## 5. Visualize ARPU"
   ]
  },
  {
   "cell_type": "code",
   "execution_count": null,
   "id": "0f1db3b8",
   "metadata": {},
   "outputs": [],
   "source": [
    "plt.bar(metrics.index, metrics['arpu'], color=['orange','green'])\n",
    "plt.title('ARPU: A vs B')\n",
    "plt.ylabel('Average Revenue per User')\n",
    "plt.show()"
   ]
  },
  {
   "cell_type": "markdown",
   "id": "6fa55d77",
   "metadata": {},
   "source": [
    "### ✅ Interpretation:\n",
    "- If p-value < 0.05, Test (B) is statistically better than Control (A)\n",
    "- Check both **conversion rate** and **ARPU** for full impact analysis"
   ]
  }
 ],
 "metadata": {},
 "nbformat": 4,
 "nbformat_minor": 5
}