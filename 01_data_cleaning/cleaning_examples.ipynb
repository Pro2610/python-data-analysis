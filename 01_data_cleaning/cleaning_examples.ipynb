{
 "cells": [
  {
   "cell_type": "markdown",
   "id": "0be76406",
   "metadata": {},
   "source": [
    "# 🧹 Data Cleaning Example with pandas"
   ]
  },
  {
   "cell_type": "code",
   "execution_count": null,
   "id": "d19cf349",
   "metadata": {},
   "outputs": [],
   "source": [
    "import pandas as pd"
   ]
  },
  {
   "cell_type": "markdown",
   "id": "401a22e9",
   "metadata": {},
   "source": [
    "### 📌 Sample dataset"
   ]
  },
  {
   "cell_type": "code",
   "execution_count": null,
   "id": "79b3efdf",
   "metadata": {},
   "outputs": [],
   "source": [
    "data = {\n",
    "    'Name': [' Alice ', 'Bob', 'Clara', None],\n",
    "    'Age': ['25', 'thirty', '35', '40'],\n",
    "    'JoinDate': ['2022-01-10', '2022/02/15', '15-03-2022', None]\n",
    "}\n",
    "\n",
    "df = pd.DataFrame(data)"
   ]
  },
  {
   "cell_type": "code",
   "execution_count": null,
   "id": "2a0829e6",
   "metadata": {},
   "outputs": [],
   "source": [
    "# 🔍 Preview original data\n",
    "print(\"🔸 Original Data:\")\n",
    "print(df)"
   ]
  },
  {
   "cell_type": "markdown",
   "id": "e143f88a",
   "metadata": {},
   "source": [
    "### 🔹 Step 1: Strip whitespace and convert names to lowercase"
   ]
  },
  {
   "cell_type": "code",
   "execution_count": null,
   "id": "2211f8a5",
   "metadata": {},
   "outputs": [],
   "source": [
    "df['Name'] = df['Name'].str.strip().str.lower()"
   ]
  },
  {
   "cell_type": "markdown",
   "id": "41cbad2a",
   "metadata": {},
   "source": [
    "### 🔹 Step 2: Convert Age to numeric (coerce errors)"
   ]
  },
  {
   "cell_type": "code",
   "execution_count": null,
   "id": "070b5fd2",
   "metadata": {},
   "outputs": [],
   "source": [
    "df['Age'] = pd.to_numeric(df['Age'], errors='coerce')"
   ]
  },
  {
   "cell_type": "markdown",
   "id": "fc659dd4",
   "metadata": {},
   "source": [
    "### 🔹 Step 3: Convert JoinDate to datetime"
   ]
  },
  {
   "cell_type": "code",
   "execution_count": null,
   "id": "4e5681ce",
   "metadata": {},
   "outputs": [],
   "source": [
    "df['JoinDate'] = pd.to_datetime(df['JoinDate'], errors='coerce')"
   ]
  },
  {
   "cell_type": "markdown",
   "id": "25b39ef5",
   "metadata": {},
   "source": [
    "### 🔹 Step 4: Drop rows with missing key values"
   ]
  },
  {
   "cell_type": "code",
   "execution_count": null,
   "id": "e3d8c846",
   "metadata": {},
   "outputs": [],
   "source": [
    "df_cleaned = df.dropna(subset=['Name', 'Age', 'JoinDate'])"
   ]
  },
  {
   "cell_type": "markdown",
   "id": "2fae430e",
   "metadata": {},
   "source": [
    "### ✅ Cleaned Data"
   ]
  },
  {
   "cell_type": "code",
   "execution_count": null,
   "id": "bf878f72",
   "metadata": {},
   "outputs": [],
   "source": [
    "print(df_cleaned)"
   ]
  }
 ],
 "metadata": {},
 "nbformat": 4,
 "nbformat_minor": 5
}