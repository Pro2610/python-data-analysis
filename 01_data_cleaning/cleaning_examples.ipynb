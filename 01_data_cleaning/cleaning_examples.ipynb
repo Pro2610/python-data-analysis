# 🧹 Data Cleaning Example with pandas

import pandas as pd

# 📌 Sample dataset
data = {
    'Name': [' Alice ', 'Bob', 'Clara', None],
    'Age': ['25', 'thirty', '35', '40'],
    'JoinDate': ['2022-01-10', '2022/02/15', '15-03-2022', None]
}

df = pd.DataFrame(data)

# 🔍 Preview original data
print("🔸 Original Data:")
print(df)

# 🔹 Step 1: Strip whitespace and convert names to lowercase
df['Name'] = df['Name'].str.strip().str.lower()

# 🔹 Step 2: Convert Age to numeric (coerce errors)
df['Age'] = pd.to_numeric(df['Age'], errors='coerce')

# 🔹 Step 3: Convert JoinDate to datetime
df['JoinDate'] = pd.to_datetime(df['JoinDate'], errors='coerce')

# 🔹 Step 4: Drop rows with missing key values
df_cleaned = df.dropna(subset=['Name', 'Age', 'JoinDate'])

# ✅ Result
print("\n✅ Cleaned Data:")
print(df_cleaned)
