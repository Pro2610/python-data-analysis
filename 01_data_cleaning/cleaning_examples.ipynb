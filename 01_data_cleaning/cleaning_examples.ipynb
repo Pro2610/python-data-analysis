import pandas as pd

# Sample dataset
data = {
    'Name': [' Alice ', 'Bob', 'Clara', None],
    'Age': ['25', 'thirty', '35', '40'],
    'JoinDate': ['2022-01-10', '2022/02/15', '15-03-2022', None]
}
df = pd.DataFrame(data)

# Preview
print("Original:")
print(df)

# 🔹 Clean whitespace & lowercase names
df['Name'] = df['Name'].str.strip().str.lower()

# 🔹 Convert age to numeric (with errors='coerce')
df['Age'] = pd.to_numeric(df['Age'], errors='coerce')

# 🔹 Convert JoinDate to datetime
df['JoinDate'] = pd.to_datetime(df['JoinDate'], errors='coerce')

# 🔹 Handle missing values
df_cleaned = df.dropna(subset=['Name', 'Age', 'JoinDate'])

print("\nCleaned:")
print(df_cleaned)
