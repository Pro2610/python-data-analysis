{
 "cells": [
  {
   "cell_type": "markdown",
   "id": "0e63bd8a",
   "metadata": {},
   "source": [
    "# 🧽 Advanced Data Cleaning with Python"
   ]
  },
  {
   "cell_type": "code",
   "execution_count": null,
   "id": "b81ee680",
   "metadata": {},
   "outputs": [],
   "source": [
    "import pandas as pd\n",
    "import numpy as np\n",
    "import re"
   ]
  },
  {
   "cell_type": "markdown",
   "id": "0b24cb5f",
   "metadata": {},
   "source": [
    "## 1. Sample Data"
   ]
  },
  {
   "cell_type": "code",
   "execution_count": null,
   "id": "4f09382a",
   "metadata": {},
   "outputs": [],
   "source": [
    "data = pd.DataFrame({\n",
    "    'name': [' Alice ', 'bob', 'BOB', 'Charlie', 'alice', None],\n",
    "    'email': ['ALICE@EXAMPLE.com', 'bob@example.COM', 'not-an-email', None, 'alice@example.com', ''],\n",
    "    'join_date': ['2021/01/05', '05-01-2021', 'Jan 5, 2021', '2021.01.05', None, '2021-01-05'],\n",
    "    'age': [25, 27, 27, 30, -1, 300],\n",
    "    'income': [50000, None, 48000, 52000, 51000, None]\n",
    "})\n",
    "data"
   ]
  },
  {
   "cell_type": "markdown",
   "id": "88e303d4",
   "metadata": {},
   "source": [
    "## 2. Normalize Categorical Text"
   ]
  },
  {
   "cell_type": "code",
   "execution_count": null,
   "id": "c1a6343f",
   "metadata": {},
   "outputs": [],
   "source": [
    "data['name_clean'] = data['name'].str.strip().str.lower()\n",
    "data"
   ]
  },
  {
   "cell_type": "markdown",
   "id": "aeb8deb6",
   "metadata": {},
   "source": [
    "## 3. Validate Email Format with Regex"
   ]
  },
  {
   "cell_type": "code",
   "execution_count": null,
   "id": "ed31c48a",
   "metadata": {},
   "outputs": [],
   "source": [
    "data['valid_email'] = data['email'].str.contains(r'^\\b[A-Za-z0-9._%+-]+@[A-Za-z0-9.-]+\\.[A-Z|a-z]{2,}\\b$', na=False)\n",
    "data[['email', 'valid_email']]"
   ]
  },
  {
   "cell_type": "markdown",
   "id": "2b0780f7",
   "metadata": {},
   "source": [
    "## 4. Convert to Datetime"
   ]
  },
  {
   "cell_type": "code",
   "execution_count": null,
   "id": "1ad4c86c",
   "metadata": {},
   "outputs": [],
   "source": [
    "data['join_date_parsed'] = pd.to_datetime(data['join_date'], errors='coerce')\n",
    "data[['join_date', 'join_date_parsed']]"
   ]
  },
  {
   "cell_type": "markdown",
   "id": "a676ba5b",
   "metadata": {},
   "source": [
    "## 5. Remove Outliers (Simple Rule)"
   ]
  },
  {
   "cell_type": "code",
   "execution_count": null,
   "id": "ef68bd4f",
   "metadata": {},
   "outputs": [],
   "source": [
    "data['age_clean'] = data['age'].apply(lambda x: np.nan if x < 0 or x > 120 else x)\n",
    "data[['age', 'age_clean']]"
   ]
  },
  {
   "cell_type": "markdown",
   "id": "e37f51b2",
   "metadata": {},
   "source": [
    "## 6. Handle Duplicates with Custom Logic"
   ]
  },
  {
   "cell_type": "code",
   "execution_count": null,
   "id": "dd4d6052",
   "metadata": {},
   "outputs": [],
   "source": [
    "data['name_lower'] = data['name'].str.lower().str.strip()\n",
    "data_no_dups = data.drop_duplicates(subset=['name_lower'])\n",
    "data_no_dups[['name', 'name_lower']]"
   ]
  },
  {
   "cell_type": "markdown",
   "id": "56f20da1",
   "metadata": {},
   "source": [
    "## 7. Impute Missing Income"
   ]
  },
  {
   "cell_type": "code",
   "execution_count": null,
   "id": "e7185ef0",
   "metadata": {},
   "outputs": [],
   "source": [
    "mean_income = data['income'].mean()\n",
    "data['income_filled'] = data['income'].fillna(mean_income)\n",
    "data[['income', 'income_filled']]"
   ]
  }
 ],
 "metadata": {},
 "nbformat": 4,
 "nbformat_minor": 5
}