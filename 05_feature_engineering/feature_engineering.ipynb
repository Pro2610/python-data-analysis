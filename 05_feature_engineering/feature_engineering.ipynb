{
 "cells": [
  {
   "cell_type": "markdown",
   "id": "fa7ce130",
   "metadata": {},
   "source": [
    "# 🛠 Feature Engineering Examples"
   ]
  },
  {
   "cell_type": "code",
   "execution_count": null,
   "id": "32ca23e5",
   "metadata": {},
   "outputs": [],
   "source": [
    "import pandas as pd\n",
    "import numpy as np\n",
    "from sklearn.preprocessing import OneHotEncoder, StandardScaler, MinMaxScaler"
   ]
  },
  {
   "cell_type": "markdown",
   "id": "9b28ae9a",
   "metadata": {},
   "source": [
    "## 1. Sample Dataset"
   ]
  },
  {
   "cell_type": "code",
   "execution_count": null,
   "id": "40351431",
   "metadata": {},
   "outputs": [],
   "source": [
    "data = pd.DataFrame({\n",
    "    'date': pd.date_range(start='2023-01-01', periods=6, freq='M'),\n",
    "    'category': ['A', 'B', 'A', 'C', 'B', 'A'],\n",
    "    'sales': [100, 200, 150, 300, 250, 400]\n",
    "})\n",
    "data"
   ]
  },
  {
   "cell_type": "markdown",
   "id": "a30a38c1",
   "metadata": {},
   "source": [
    "## 2. Extract Date Features"
   ]
  },
  {
   "cell_type": "code",
   "execution_count": null,
   "id": "6e6bec44",
   "metadata": {},
   "outputs": [],
   "source": [
    "data['year'] = data['date'].dt.year\n",
    "data['month'] = data['date'].dt.month\n",
    "data['weekday'] = data['date'].dt.day_name()\n",
    "data"
   ]
  },
  {
   "cell_type": "markdown",
   "id": "c55a5a52",
   "metadata": {},
   "source": [
    "## 3. One-Hot Encoding for Categorical Variables"
   ]
  },
  {
   "cell_type": "code",
   "execution_count": null,
   "id": "cc6d3c60",
   "metadata": {},
   "outputs": [],
   "source": [
    "encoded = pd.get_dummies(data, columns=['category', 'weekday'], drop_first=True)\n",
    "encoded"
   ]
  },
  {
   "cell_type": "markdown",
   "id": "f4325f5d",
   "metadata": {},
   "source": [
    "## 4. Binning Numerical Variable (Sales)"
   ]
  },
  {
   "cell_type": "code",
   "execution_count": null,
   "id": "c049c5d8",
   "metadata": {},
   "outputs": [],
   "source": [
    "data['sales_bin'] = pd.cut(data['sales'], bins=[0,150,300,500], labels=['Low','Medium','High'])\n",
    "data[['sales','sales_bin']]"
   ]
  },
  {
   "cell_type": "markdown",
   "id": "db5f513a",
   "metadata": {},
   "source": [
    "## 5. Log Transformation"
   ]
  },
  {
   "cell_type": "code",
   "execution_count": null,
   "id": "9663ab20",
   "metadata": {},
   "outputs": [],
   "source": [
    "data['sales_log'] = np.log1p(data['sales'])\n",
    "data[['sales','sales_log']]"
   ]
  },
  {
   "cell_type": "markdown",
   "id": "17962591",
   "metadata": {},
   "source": [
    "## 6. Scaling Features (Standard & MinMax)"
   ]
  },
  {
   "cell_type": "code",
   "execution_count": null,
   "id": "e6dc9e40",
   "metadata": {},
   "outputs": [],
   "source": [
    "scaler_standard = StandardScaler()\n",
    "scaler_minmax = MinMaxScaler()\n",
    "\n",
    "numeric_cols = ['sales','sales_log']\n",
    "data_standard_scaled = scaler_standard.fit_transform(data[numeric_cols])\n",
    "data_minmax_scaled = scaler_minmax.fit_transform(data[numeric_cols])\n",
    "\n",
    "data_scaled = pd.DataFrame(data_standard_scaled, columns=['sales_std','sales_log_std'])\n",
    "data_scaled['sales_minmax'] = data_minmax_scaled[:,0]\n",
    "data_scaled"
   ]
  }
 ],
 "metadata": {},
 "nbformat": 4,
 "nbformat_minor": 5
}