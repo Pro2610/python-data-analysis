{
 "cells": [
  {
   "cell_type": "markdown",
   "id": "ed4cb979",
   "metadata": {},
   "source": [
    "# 🔍 Exploratory Data Analysis (EDA)"
   ]
  },
  {
   "cell_type": "code",
   "execution_count": null,
   "id": "5db4eb0d",
   "metadata": {},
   "outputs": [],
   "source": [
    "import pandas as pd\n",
    "import seaborn as sns\n",
    "import matplotlib.pyplot as plt\n",
    "\n",
    "%matplotlib inline"
   ]
  },
  {
   "cell_type": "markdown",
   "id": "7c1bcf1b",
   "metadata": {},
   "source": [
    "## 1. Load and Preview Data"
   ]
  },
  {
   "cell_type": "code",
   "execution_count": null,
   "id": "d2163843",
   "metadata": {},
   "outputs": [],
   "source": [
    "data = pd.DataFrame({\n",
    "    'age': [25, 30, 45, None, 40, 35, 30],\n",
    "    'salary': [50000, 60000, 80000, 75000, None, 62000, 61000],\n",
    "    'department': ['HR', 'IT', 'IT', 'HR', 'Finance', 'Finance', 'HR']\n",
    "})\n",
    "data.head()"
   ]
  },
  {
   "cell_type": "markdown",
   "id": "de5bc992",
   "metadata": {},
   "source": [
    "## 2. Basic Info & Statistics"
   ]
  },
  {
   "cell_type": "code",
   "execution_count": null,
   "id": "474db587",
   "metadata": {},
   "outputs": [],
   "source": [
    "print(\"📐 Shape:\", data.shape)\n",
    "print(\"\\n📋 Info:\")\n",
    "data.info()\n",
    "\n",
    "print(\"\\n📊 Summary:\")\n",
    "data.describe(include='all')"
   ]
  },
  {
   "cell_type": "markdown",
   "id": "d4ad3b58",
   "metadata": {},
   "source": [
    "## 3. Missing Values"
   ]
  },
  {
   "cell_type": "code",
   "execution_count": null,
   "id": "14dd6d2f",
   "metadata": {},
   "outputs": [],
   "source": [
    "print(\"🧩 Missing values per column:\")\n",
    "print(data.isnull().sum())"
   ]
  },
  {
   "cell_type": "markdown",
   "id": "1783376c",
   "metadata": {},
   "source": [
    "## 4. Duplicates"
   ]
  },
  {
   "cell_type": "code",
   "execution_count": null,
   "id": "afc9ab9f",
   "metadata": {},
   "outputs": [],
   "source": [
    "print(\"🔁 Number of duplicates:\", data.duplicated().sum())"
   ]
  },
  {
   "cell_type": "markdown",
   "id": "d12c56be",
   "metadata": {},
   "source": [
    "## 5. Histograms"
   ]
  },
  {
   "cell_type": "code",
   "execution_count": null,
   "id": "b0d2d5bb",
   "metadata": {},
   "outputs": [],
   "source": [
    "data.hist(figsize=(8,4), bins=5)\n",
    "plt.tight_layout()\n",
    "plt.show()"
   ]
  },
  {
   "cell_type": "markdown",
   "id": "5d8ef69f",
   "metadata": {},
   "source": [
    "## 6. Boxplots (Outliers)"
   ]
  },
  {
   "cell_type": "code",
   "execution_count": null,
   "id": "7b91ccda",
   "metadata": {},
   "outputs": [],
   "source": [
    "sns.boxplot(x=data['salary'])\n",
    "plt.title('Boxplot: Salary')\n",
    "plt.show()"
   ]
  },
  {
   "cell_type": "markdown",
   "id": "845b770b",
   "metadata": {},
   "source": [
    "## 7. Grouped Analysis"
   ]
  },
  {
   "cell_type": "code",
   "execution_count": null,
   "id": "a3adb7ac",
   "metadata": {},
   "outputs": [],
   "source": [
    "print(\"📂 Mean salary by department:\")\n",
    "print(data.groupby('department')['salary'].mean())"
   ]
  }
 ],
 "metadata": {},
 "nbformat": 4,
 "nbformat_minor": 5
}